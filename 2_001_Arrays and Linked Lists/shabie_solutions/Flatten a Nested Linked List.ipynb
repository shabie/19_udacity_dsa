{
 "cells": [
  {
   "cell_type": "markdown",
   "metadata": {},
   "source": [
    "## Flattening a nested linked list\n",
    "\n",
    "Suppose you have a linked list where the value of each node is a sorted linked list (i.e., it is a _nested_ list). Your task is to _flatten_ this nested list—that is, to combine all nested lists into a single (sorted) linked list.\n",
    "\n",
    "First, we'll need some code for generating nodes and a linked list:"
   ]
  },
  {
   "cell_type": "code",
   "execution_count": 89,
   "metadata": {},
   "outputs": [],
   "source": [
    "# Use this class as the nodes in your linked list\n",
    "class Node:\n",
    "    def __init__(self, value):\n",
    "        self.value = value\n",
    "        self.next = None\n",
    "\n",
    "    def __repr__(self):\n",
    "        return str(self.value)\n",
    "\n",
    "\n",
    "class LinkedList:\n",
    "    def __init__(self, head):\n",
    "        self.head = head\n",
    "\n",
    "    def append(self, value):\n",
    "        if self.head is None:\n",
    "            self.head = Node(value)\n",
    "            return\n",
    "        node = self.head\n",
    "        while node.next is not None:\n",
    "            node = node.next\n",
    "        node.next = Node(value)\n",
    "\n",
    "    def flatten_deep(self):\n",
    "        value_list = []\n",
    "        node = self.head\n",
    "\n",
    "        while node.next is not None:\n",
    "            value_list.append(node.value)\n",
    "            node = node.next\n",
    "        value_list.append(node.value)  # append the last value after exiting out of the loop\n",
    "        return value_list\n",
    "    \n",
    "    # custom-defined by me      \n",
    "    def __eq__(self, other):\n",
    "        ix = 0\n",
    "        node = self.head\n",
    "        while node.next is not None:\n",
    "            if node.value == other[ix]:\n",
    "                node = node.next\n",
    "                ix += 1\n",
    "            else:\n",
    "                return False\n",
    "        return True\n",
    "    \n",
    "    def __repr__(self):\n",
    "        res = []\n",
    "        node = self.head\n",
    "        while node:\n",
    "            res.append(node.value)\n",
    "            node = node.next\n",
    "        return res.__repr__()"
   ]
  },
  {
   "cell_type": "markdown",
   "metadata": {},
   "source": [
    "Now, in the cell below, see if you can solve the problem by implementing the `flatten` method.\n",
    "\n",
    ">Hint: If you first create a `merge` method that merges two linked lists into a sorted linked list, then there is an elegant recursive solution."
   ]
  },
  {
   "cell_type": "code",
   "execution_count": 93,
   "metadata": {},
   "outputs": [],
   "source": [
    "class NestedLinkedList(LinkedList):\n",
    "    \n",
    "    @staticmethod\n",
    "    def merge(a, b):\n",
    "\n",
    "        if a is None:\n",
    "            return b\n",
    "        elif b is None:\n",
    "            return a\n",
    "        \n",
    "        merged = LinkedList(None)\n",
    "        \n",
    "        na = a.head\n",
    "        nb = b.head\n",
    "        \n",
    "        while na is not None or nb is not None:\n",
    "            \n",
    "            # if one list is empty, keep appending the 2nd list node by node\n",
    "            if na is None:\n",
    "                merged.append(nb.value)  # original sol. appends the Node itself which is wrong\n",
    "                nb = nb.next\n",
    "            elif nb is None:\n",
    "                merged.append(na.value)\n",
    "                na = na.next\n",
    "                \n",
    "            # if both are non-empty, compare 2 values and append the smaller one\n",
    "            elif na.value <= nb.value:\n",
    "                merged.append(na.value)\n",
    "                na = na.next\n",
    "            else:\n",
    "                merged.append(nb.value)\n",
    "                nb = nb.next\n",
    "                \n",
    "        return merged\n",
    "\n",
    "    def flatten(self):\n",
    "        return self._flatten(self.head)\n",
    "    \n",
    "    def _flatten(self, node):\n",
    "        if node.next is not None:\n",
    "            return self.merge(node.value, self._flatten(node.next))\n",
    "        else:\n",
    "            return self.merge(node.value, None)\n"
   ]
  },
  {
   "cell_type": "markdown",
   "metadata": {},
   "source": [
    "Here's some code that will generate a nested linked list that we can use to test the solution:"
   ]
  },
  {
   "cell_type": "code",
   "execution_count": 94,
   "metadata": {},
   "outputs": [],
   "source": [
    "# Setup for testing\n",
    "linked_list = LinkedList(Node(1))\n",
    "linked_list.append(3)\n",
    "linked_list.append(5)\n",
    "\n",
    "second_linked_list = LinkedList(Node(2))\n",
    "second_linked_list.append(4)\n",
    "\n",
    "nested_linked_list = NestedLinkedList(Node(linked_list))\n",
    "nested_linked_list.append(second_linked_list)"
   ]
  },
  {
   "cell_type": "markdown",
   "metadata": {},
   "source": [
    "### Structure\n",
    "`nested_linked_list` should now have 2 nodes.  The head node is a linked list containing `1, 3, 5`.  The second node is a linked list containing `2, 4`.\n",
    "\n",
    "Calling `flatten` should return a linked list containing `1, 2, 3, 4, 5`."
   ]
  },
  {
   "cell_type": "code",
   "execution_count": 95,
   "metadata": {},
   "outputs": [
    {
     "name": "stdout",
     "output_type": "stream",
     "text": [
      "[1, 2, 3, 4, 5]\n"
     ]
    }
   ],
   "source": [
    "solution = nested_linked_list.flatten()\n",
    "print(solution)\n",
    "assert solution == [1,2,3,4,5]"
   ]
  },
  {
   "cell_type": "markdown",
   "metadata": {},
   "source": [
    "### Computational Complexity\n",
    "Lets start with the computational complexity of `merge`.  Merge takes in two lists.  Let's say the lengths of the lists are $N_{1}$ and $N_{2}$. Because we assume the inputs are sorted, `merge` is very efficient. It looks at the first element of each list and adds the smaller one to the returned list.  Every time through the loop we are appending one element to the list, so it will take $N_{1} + N_{2}$ iterations until we have the whole list.\n",
    "\n",
    "The complexity of `flatten` is a little more complicated to calculate.  Suppose our `NestedLinkedList` has $N$ linked lists and each list's length is represented by $M_{1}, M_{2}, ..., M_{N}$.\n",
    "\n",
    "We can represent this recursion as:\n",
    "\n",
    "$merge(M_{1}, merge(M_{2}, merge(..., merge(M_{N-1}, merge(M_{N}, None)))))$\n",
    "\n",
    "Let's start from the inside.  The inner most merge returns the $nth$ linked list.  The next merge does $M_{N-1} + M_{N}$ comparisons.  The next merge does $M_{N-2} + M_{N-1} + M_{N}$ comparisons.\n",
    "\n",
    "Eventually we will do $N$ comparisons on all of the $M_{N}$ elements. We will do $N-1$ comparisons on $M_{N-1}$ elements.\n",
    "\n",
    "This can be generalized as:\n",
    "\n",
    "$$\n",
    "\\sum_n^N n*M_{n}\n",
    "$$"
   ]
  }
 ],
 "metadata": {
  "kernelspec": {
   "display_name": "Python 3",
   "language": "python",
   "name": "python3"
  },
  "language_info": {
   "codemirror_mode": {
    "name": "ipython",
    "version": 3
   },
   "file_extension": ".py",
   "mimetype": "text/x-python",
   "name": "python",
   "nbconvert_exporter": "python",
   "pygments_lexer": "ipython3",
   "version": "3.6.8"
  }
 },
 "nbformat": 4,
 "nbformat_minor": 4
}
