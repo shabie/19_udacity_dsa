{
 "cells": [
  {
   "cell_type": "markdown",
   "metadata": {
    "graffitiCellId": "id_m7du2yn"
   },
   "source": [
    "### Problem Statement\n",
    "\n",
    "You are given a non-negative number in the form of list elements. For example, the number `123` would be provided as `arr = [1, 2, 3]`. Add one to the number and return the output in the form of a new list. \n",
    "\n",
    "**Example 1:**\n",
    "* `input = [1, 2, 3]`\n",
    "* `output = [1, 2, 4]`\n",
    "\n",
    "**Example 2:**\n",
    "* `input = [9, 9, 9]`\n",
    "* `output = [1, 0, 0, 0]`\n",
    "\n",
    "**Challenge:**\n",
    "\n",
    "One way to solve this problem is to convert the input array into a number and then add one to it. For example, if we have `input = [1, 2, 3]`, you could solve this problem by creating the number `123` and then separating the digits of the output number `124`.\n",
    "\n",
    "But can you solve it in some other way?\n",
    "\n"
   ]
  },
  {
   "cell_type": "code",
   "execution_count": 1,
   "metadata": {},
   "outputs": [],
   "source": [
    "def add_one(arr):\n",
    "    \n",
    "    # version 1\n",
    "    \n",
    "    ix = -1\n",
    "    while arr[ix] + 1 >= 10:\n",
    "        arr[ix] = 0\n",
    "        if abs(ix - 1) > len(arr):\n",
    "            break\n",
    "        arr[ix - 1] += 1\n",
    "        ix -= 1\n",
    "    else:\n",
    "        arr[ix] += 1\n",
    "        return arr\n",
    "    return [1] + arr  # inefficient bec. entire array is recopied I believe. Prepend in a list is O(N)"
   ]
  },
  {
   "cell_type": "code",
   "execution_count": 2,
   "metadata": {},
   "outputs": [
    {
     "name": "stdout",
     "output_type": "stream",
     "text": [
      "[1]\n",
      "[1, 2, 4]\n",
      "[1, 0, 0, 0]\n"
     ]
    }
   ],
   "source": [
    "print(add_one([0]))\n",
    "print(add_one([1, 2, 3]))\n",
    "print(add_one([9, 9, 9]))"
   ]
  },
  {
   "cell_type": "code",
   "execution_count": 4,
   "metadata": {},
   "outputs": [],
   "source": [
    "def add_one(arr):\n",
    "    \n",
    "    # version 2: a bit more efficient\n",
    "    \n",
    "    i = -1\n",
    "    while arr[i] + 1 >= 10:\n",
    "        if abs(i - 1) > len(arr):\n",
    "            arr[i] = 1\n",
    "            arr.append(0)\n",
    "            break\n",
    "        arr[i] = 0\n",
    "        arr[i - 1] += 1\n",
    "        i -= 1\n",
    "    else:\n",
    "        arr[i] += 1\n",
    "    return arr"
   ]
  },
  {
   "cell_type": "code",
   "execution_count": 5,
   "metadata": {},
   "outputs": [
    {
     "name": "stdout",
     "output_type": "stream",
     "text": [
      "[1]\n",
      "[1, 2, 4]\n",
      "[1, 0, 0, 0]\n"
     ]
    }
   ],
   "source": [
    "print(add_one([0]))\n",
    "print(add_one([1, 2, 3]))\n",
    "print(add_one([9, 9, 9]))"
   ]
  }
 ],
 "metadata": {
  "kernelspec": {
   "display_name": "Python 3",
   "language": "python",
   "name": "python3"
  },
  "language_info": {
   "codemirror_mode": {
    "name": "ipython",
    "version": 3
   },
   "file_extension": ".py",
   "mimetype": "text/x-python",
   "name": "python",
   "nbconvert_exporter": "python",
   "pygments_lexer": "ipython3",
   "version": "3.6.8"
  }
 },
 "nbformat": 4,
 "nbformat_minor": 4
}
