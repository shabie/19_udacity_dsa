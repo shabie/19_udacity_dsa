{
 "cells": [
  {
   "cell_type": "markdown",
   "metadata": {
    "graffitiCellId": "id_ow7e8a4"
   },
   "source": [
    "### Problem Statement\n",
    "\n",
    "Given a linked list with integer data, arrange the elements in such a manner that all nodes with even numbers are placed after odd numbers. **Do not create any new nodes and avoid using any other data structure. The relative order of even and odd elements must not change.** \n",
    "\n",
    "**Example:**\n",
    "* `linked list = 1 2 3 4 5 6`\n",
    "* `output = 1 3 5 2 4 6`"
   ]
  },
  {
   "cell_type": "code",
   "execution_count": 123,
   "metadata": {},
   "outputs": [],
   "source": [
    "# helper functions for testing purpose\n",
    "def create_linked_list(arr):\n",
    "    if len(arr)==0:\n",
    "        return None\n",
    "    head = Node(arr[0])\n",
    "    tail = head\n",
    "    for data in arr[1:]:\n",
    "        tail.next = Node(data)\n",
    "        tail = tail.next\n",
    "    return head\n",
    "\n",
    "def print_linked_list(head):\n",
    "    while head:\n",
    "        print(head.data, end=' ')\n",
    "        head = head.next\n",
    "    print()"
   ]
  },
  {
   "cell_type": "code",
   "execution_count": 145,
   "metadata": {},
   "outputs": [],
   "source": [
    "def test_function(test_case, even_after_odd):\n",
    "    head = test_case[0]\n",
    "    solution = test_case[1]\n",
    "    \n",
    "    node_tracker = dict({})\n",
    "    node_tracker['nodes'] = list()\n",
    "    temp = head\n",
    "    while temp:\n",
    "        node_tracker['nodes'].append(temp)\n",
    "        temp = temp.next\n",
    "\n",
    "    head = even_after_odd(head)    \n",
    "    temp = head\n",
    "    index = 0\n",
    "    assert head is not None\n",
    "    try:\n",
    "        while temp:\n",
    "            if temp.data != solution[index] or temp not in node_tracker['nodes']:\n",
    "                print(\"Fail\")\n",
    "                return\n",
    "            temp = temp.next\n",
    "            index += 1\n",
    "        print(\"Pass\")            \n",
    "    except Exception as e:\n",
    "        print(\"Fail\")"
   ]
  },
  {
   "cell_type": "code",
   "execution_count": 146,
   "metadata": {},
   "outputs": [],
   "source": [
    "class Node:\n",
    "    def __init__(self, data):\n",
    "        self.data = data\n",
    "        self.next = None"
   ]
  },
  {
   "cell_type": "code",
   "execution_count": 147,
   "metadata": {},
   "outputs": [],
   "source": [
    "def is_odd(node):\n",
    "\n",
    "    if node is None:\n",
    "        return False\n",
    "    else:\n",
    "        return False if (node.data % 2 == 0) else True\n",
    "\n",
    "def even_after_odd(head):\n",
    "    \n",
    "    \"\"\"\n",
    "    This solution clusters according to values not indexes.\n",
    "    \n",
    "    Below is a solution from Leetcode based on a similar problem that deals with clustering even-odd w.r.t. index values\n",
    "    \"\"\"\n",
    "    \n",
    "    node = head.next  # start from 2nd so there is a previous\n",
    "    prev_node = head\n",
    "    to_add = head\n",
    "    prev_to_add = None\n",
    "\n",
    "    while node is not None:\n",
    "\n",
    "        if is_odd(node) and (not is_odd(prev_node)):\n",
    "\n",
    "            orig = node.next\n",
    "            prev_node.next = node.next  # skip the node to join to next one\n",
    "\n",
    "            if not is_odd(to_add):\n",
    "                # add before\n",
    "                node.next = to_add\n",
    "                if prev_to_add is not None:\n",
    "                    prev_to_add.next = node\n",
    "                # move cursor to next position\n",
    "                to_add = node.next\n",
    "                prev_to_add = node\n",
    "\n",
    "            else:\n",
    "                # add after\n",
    "                node.next = to_add.next\n",
    "                to_add.next = node\n",
    "                # move cursor to next position\n",
    "                to_add = node.next\n",
    "                prev_to_add = node\n",
    "\n",
    "            if node.next == head:\n",
    "                head = node\n",
    "\n",
    "            node = orig\n",
    "\n",
    "        else:\n",
    "\n",
    "            prev_node = node\n",
    "            node = node.next\n",
    "            \n",
    "    return head"
   ]
  },
  {
   "cell_type": "code",
   "execution_count": 148,
   "metadata": {},
   "outputs": [
    {
     "name": "stdout",
     "output_type": "stream",
     "text": [
      "Pass\n"
     ]
    }
   ],
   "source": [
    "arr =  [2, 1, 3, 5, 6, 4, 7]\n",
    "solution = [1, 3, 5, 7, 2, 6, 4]  # value based sorting\n",
    "\n",
    "head = create_linked_list(arr)\n",
    "test_case = [head, solution]\n",
    "test_function(test_case, even_after_odd)"
   ]
  },
  {
   "cell_type": "code",
   "execution_count": 149,
   "metadata": {},
   "outputs": [
    {
     "name": "stdout",
     "output_type": "stream",
     "text": [
      "Pass\n"
     ]
    }
   ],
   "source": [
    "arr =  [2, 4, 6, 1, 3]\n",
    "solution = [1, 3, 2, 4, 6]  # value based sorting\n",
    "\n",
    "head = create_linked_list(arr)\n",
    "test_case = [head, solution]\n",
    "test_function(test_case, even_after_odd)"
   ]
  },
  {
   "cell_type": "code",
   "execution_count": 151,
   "metadata": {},
   "outputs": [],
   "source": [
    "def even_after_odd(head):\n",
    "\n",
    "    if head is None or head.next is None:\n",
    "        return head\n",
    "    \n",
    "    final_connection = head.next\n",
    "    odd = head\n",
    "    even = head.next\n",
    "\n",
    "    while True:\n",
    "\n",
    "        if even.next is not None:\n",
    "            odd.next = even.next\n",
    "        else:\n",
    "            odd.next = final_connection\n",
    "            even.next = None\n",
    "            return head\n",
    "\n",
    "        if even.next.next is not None:\n",
    "            even.next = even.next.next\n",
    "        else:\n",
    "            even.next.next = final_connection\n",
    "            even.next = None\n",
    "            return head\n",
    "\n",
    "        odd = odd.next\n",
    "        even = even.next\n",
    "\n",
    "    return head"
   ]
  },
  {
   "cell_type": "code",
   "execution_count": 152,
   "metadata": {},
   "outputs": [
    {
     "name": "stdout",
     "output_type": "stream",
     "text": [
      "Pass\n"
     ]
    }
   ],
   "source": [
    "arr = [2, 1, 3, 5, 6, 4, 7]\n",
    "solution = [2, 3, 6, 7, 1, 5, 4]  # index based sorting\n",
    "\n",
    "head = create_linked_list(arr)\n",
    "test_case = [head, solution]\n",
    "test_function(test_case, even_after_odd)"
   ]
  },
  {
   "cell_type": "code",
   "execution_count": 153,
   "metadata": {},
   "outputs": [
    {
     "name": "stdout",
     "output_type": "stream",
     "text": [
      "Pass\n"
     ]
    }
   ],
   "source": [
    "arr =  [2, 4, 6, 1, 3]\n",
    "solution = [2, 6, 3, 4, 1]  # value based sorting\n",
    "\n",
    "head = create_linked_list(arr)\n",
    "test_case = [head, solution]\n",
    "test_function(test_case, even_after_odd)"
   ]
  }
 ],
 "metadata": {
  "kernelspec": {
   "display_name": "Python 3",
   "language": "python",
   "name": "python3"
  },
  "language_info": {
   "codemirror_mode": {
    "name": "ipython",
    "version": 3
   },
   "file_extension": ".py",
   "mimetype": "text/x-python",
   "name": "python",
   "nbconvert_exporter": "python",
   "pygments_lexer": "ipython3",
   "version": "3.6.8"
  }
 },
 "nbformat": 4,
 "nbformat_minor": 4
}
