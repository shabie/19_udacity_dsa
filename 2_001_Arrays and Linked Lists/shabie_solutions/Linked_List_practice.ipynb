{
 "cells": [
  {
   "cell_type": "markdown",
   "metadata": {},
   "source": [
    "# Linked List Practice\n",
    "\n",
    "Implement a linked list class. Your class should be able to:\n",
    "\n",
    "+ Append data to the tail of the list and prepend to the head\n",
    "+ Search the linked list for a value and return the node\n",
    "+ Remove a node\n",
    "+ Pop, which means to return the first node's value and delete the node from the list\n",
    "+ Insert data at some position in the list\n",
    "+ Return the size (length) of the linked list"
   ]
  },
  {
   "cell_type": "code",
   "execution_count": 17,
   "metadata": {},
   "outputs": [],
   "source": [
    "class Node(object):\n",
    "\n",
    "    def __init__(self, value):\n",
    "        self.value = value\n",
    "        self.next = None\n",
    "\n",
    "    def __repr__(self):\n",
    "        return f'Node({self.value})'\n",
    "\n",
    "\n",
    "class LinkedList(object):\n",
    "\n",
    "    def __init__(self):\n",
    "        self.head = None\n",
    "\n",
    "    def append(self, value):\n",
    "        if self.head is None:\n",
    "            self.head = Node(value)\n",
    "            return\n",
    "\n",
    "        node_cursor = self.head\n",
    "        while node_cursor.next:  # as long as it has an object, keep parsing. O(N)\n",
    "            node_cursor = node_cursor.next\n",
    "        node_cursor.next = Node(value)\n",
    "        return\n",
    "\n",
    "    def prepend(self, value):  # O(1)\n",
    "        new_node = Node(value)\n",
    "        new_node.next = self.head\n",
    "        self.head = new_node\n",
    "\n",
    "    def search(self, value):  # O(N)\n",
    "        node_cursor = self.head\n",
    "        while node_cursor is not None:\n",
    "            if node_cursor.value == value:\n",
    "                return node_cursor\n",
    "            node_cursor = node_cursor.next\n",
    "        return node_cursor\n",
    "\n",
    "    def remove(self, value):\n",
    "        node_cursor = self.head\n",
    "        prev_node_cursor = None\n",
    "        while node_cursor is not None:\n",
    "            if node_cursor.value == value:\n",
    "                break\n",
    "            else:\n",
    "                prev_node_cursor = node_cursor\n",
    "                node_cursor = node_cursor.next\n",
    "\n",
    "        if prev_node_cursor is None:\n",
    "            self.head = node_cursor.next\n",
    "        else:\n",
    "            prev_node_cursor.next = node_cursor.next\n",
    "        del node_cursor\n",
    "\n",
    "        # raise NotImplementedError\n",
    "\n",
    "    def pop(self):  # O(N)\n",
    "        pop_value = self.head.value\n",
    "        if self.head.next is not None:\n",
    "            new_head = self.head.next\n",
    "            self.head = new_head\n",
    "        else:\n",
    "            del self.head\n",
    "\n",
    "        return pop_value\n",
    "\n",
    "    def insert(self, value, index):  # O(N)\n",
    "\n",
    "        if index == 0:\n",
    "            self.prepend(value)\n",
    "            return\n",
    "\n",
    "        prev_node_cursor = None\n",
    "        node_cursor = self.head\n",
    "\n",
    "        for i in range(index):\n",
    "            prev_node_cursor = node_cursor\n",
    "            node_cursor = node_cursor.next\n",
    "\n",
    "        # Index lies too far beyond the current list index range\n",
    "        if prev_node_cursor is None and node_cursor is None:\n",
    "            raise IndexError\n",
    "\n",
    "        new_node = Node(value)\n",
    "        prev_node_cursor.next = new_node\n",
    "        new_node.next = node_cursor\n",
    "        return\n",
    "\n",
    "\n",
    "    def __len__(self):  # O(N)\n",
    "        node_cursor = self.head\n",
    "        count = 0\n",
    "        while node_cursor is not None:\n",
    "            count += 1\n",
    "            node_cursor = node_cursor.next\n",
    "        return count\n",
    "\n",
    "    def to_list(self):\n",
    "\n",
    "        list_ = []\n",
    "        node_cursor = self.head\n",
    "\n",
    "        while node_cursor:\n",
    "            list_.append(node_cursor.value)\n",
    "            node_cursor = node_cursor.next\n",
    "        return list_"
   ]
  },
  {
   "cell_type": "code",
   "execution_count": 18,
   "metadata": {},
   "outputs": [],
   "source": [
    "ll = LinkedList()"
   ]
  },
  {
   "cell_type": "code",
   "execution_count": 19,
   "metadata": {},
   "outputs": [],
   "source": [
    "ll.append(4)\n",
    "ll.prepend(3)\n",
    "ll.prepend(7)\n",
    "ll.append(9)"
   ]
  },
  {
   "cell_type": "code",
   "execution_count": 20,
   "metadata": {},
   "outputs": [
    {
     "data": {
      "text/plain": [
       "4"
      ]
     },
     "execution_count": 20,
     "metadata": {},
     "output_type": "execute_result"
    }
   ],
   "source": [
    "len(ll)"
   ]
  },
  {
   "cell_type": "code",
   "execution_count": 21,
   "metadata": {},
   "outputs": [
    {
     "data": {
      "text/plain": [
       "7"
      ]
     },
     "execution_count": 21,
     "metadata": {},
     "output_type": "execute_result"
    }
   ],
   "source": [
    "ll.pop()"
   ]
  },
  {
   "cell_type": "code",
   "execution_count": 22,
   "metadata": {},
   "outputs": [
    {
     "data": {
      "text/plain": [
       "3"
      ]
     },
     "execution_count": 22,
     "metadata": {},
     "output_type": "execute_result"
    }
   ],
   "source": [
    "len(ll)"
   ]
  },
  {
   "cell_type": "code",
   "execution_count": 23,
   "metadata": {},
   "outputs": [
    {
     "data": {
      "text/plain": [
       "Node(9)"
      ]
     },
     "execution_count": 23,
     "metadata": {},
     "output_type": "execute_result"
    }
   ],
   "source": [
    "ll.search(9)"
   ]
  },
  {
   "cell_type": "code",
   "execution_count": 24,
   "metadata": {},
   "outputs": [],
   "source": [
    "ll.insert(10, 0)  # value is the first arg"
   ]
  },
  {
   "cell_type": "code",
   "execution_count": 25,
   "metadata": {},
   "outputs": [
    {
     "data": {
      "text/plain": [
       "10"
      ]
     },
     "execution_count": 25,
     "metadata": {},
     "output_type": "execute_result"
    }
   ],
   "source": [
    "ll.head.value"
   ]
  },
  {
   "cell_type": "code",
   "execution_count": 27,
   "metadata": {},
   "outputs": [],
   "source": [
    "## Test your implementation here\n",
    "\n",
    "# Test prepend\n",
    "linked_list = LinkedList()\n",
    "linked_list.prepend(1)\n",
    "assert linked_list.to_list() == [1], f\"list contents: {linked_list.to_list()}\"\n",
    "linked_list.append(3)\n",
    "linked_list.prepend(2)\n",
    "assert linked_list.to_list() == [2, 1, 3], f\"list contents: {linked_list.to_list()}\"\n",
    "    \n",
    "# Test append\n",
    "linked_list = LinkedList()\n",
    "linked_list.append(1)\n",
    "assert linked_list.to_list() == [1], f\"list contents: {linked_list.to_list()}\"\n",
    "linked_list.append(3)\n",
    "assert linked_list.to_list() == [1, 3], f\"list contents: {linked_list.to_list()}\"\n",
    "\n",
    "# Test search\n",
    "linked_list.prepend(2)\n",
    "linked_list.prepend(1)\n",
    "linked_list.append(4)\n",
    "linked_list.append(3)\n",
    "assert linked_list.search(1).value == 1, f\"list contents: {linked_list.to_list()}\"\n",
    "assert linked_list.search(4).value == 4, f\"list contents: {linked_list.to_list()}\"\n",
    "\n",
    "# Test remove\n",
    "linked_list.remove(1)\n",
    "assert linked_list.to_list() == [2, 1, 3, 4, 3], f\"list contents: {linked_list.to_list()}\"\n",
    "linked_list.remove(3)\n",
    "assert linked_list.to_list() == [2, 1, 4, 3], f\"list contents: {linked_list.to_list()}\"\n",
    "linked_list.remove(3)\n",
    "assert linked_list.to_list() == [2, 1, 4], f\"list contents: {linked_list.to_list()}\"\n",
    "\n",
    "# Test pop\n",
    "value = linked_list.pop()\n",
    "assert value == 2, f\"list contents: {linked_list.to_list()}\"\n",
    "assert linked_list.head.value == 1, f\"list contents: {linked_list.to_list()}\"\n",
    "\n",
    "# Test insert \n",
    "linked_list.insert(5, 0)\n",
    "assert linked_list.to_list() == [5, 1, 4], f\"list contents: {linked_list.to_list()}\"\n",
    "linked_list.insert(2, 1)\n",
    "assert linked_list.to_list() == [5, 2, 1, 4], f\"list contents: {linked_list.to_list()}\"\n",
    "linked_list.insert(3, 4)\n",
    "assert linked_list.to_list() == [5, 2, 1, 4, 3], f\"list contents: {linked_list.to_list()}\"\n",
    "\n",
    "# Test size\n",
    "assert len(linked_list) == 5, f\"list contents: {linked_list.to_list()}\""
   ]
  },
  {
   "cell_type": "code",
   "execution_count": null,
   "metadata": {},
   "outputs": [],
   "source": []
  }
 ],
 "metadata": {
  "kernelspec": {
   "display_name": "Python 3",
   "language": "python",
   "name": "python3"
  },
  "language_info": {
   "codemirror_mode": {
    "name": "ipython",
    "version": 3
   },
   "file_extension": ".py",
   "mimetype": "text/x-python",
   "name": "python",
   "nbconvert_exporter": "python",
   "pygments_lexer": "ipython3",
   "version": "3.6.8"
  }
 },
 "nbformat": 4,
 "nbformat_minor": 4
}
