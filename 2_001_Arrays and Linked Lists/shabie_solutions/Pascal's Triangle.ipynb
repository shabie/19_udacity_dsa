{
 "cells": [
  {
   "cell_type": "markdown",
   "metadata": {
    "graffitiCellId": "id_9l9h3vg"
   },
   "source": [
    "### Problem Statement\n",
    "\n",
    "Find and return the `nth` row of Pascal's triangle in the form a list. `n` is 0-based.\n",
    "\n",
    "For exmaple, if `n = 4`, then `output = [1, 4, 6, 4, 1]`.\n",
    "\n",
    "To know more about Pascal's triangle: https://www.mathsisfun.com/pascals-triangle.html\n",
    "\n",
    "Look under \"A Formula for Any Entry in The Triangle\" (under the link)."
   ]
  },
  {
   "cell_type": "code",
   "execution_count": 31,
   "metadata": {},
   "outputs": [],
   "source": [
    "def pascals_triangle(n, specific=False):\n",
    "    \n",
    "    \"\"\"\n",
    "    Simple solution -> Time complex. O(N^2)\n",
    "    \"\"\"\n",
    "    \n",
    "    triangle = []\n",
    "    \n",
    "    for i in range(n + 1):\n",
    "        \n",
    "        size = i + 1\n",
    "        row = [1] * (size)\n",
    "        last_row = triangle[i - 1] if i > 0 else None\n",
    "        for idx in range(1, size - 1):\n",
    "            row[idx] = last_row[idx - 1] + last_row[idx]\n",
    "                \n",
    "        triangle.append(row)\n",
    "        \n",
    "    return triangle if not specific else triangle[n]"
   ]
  },
  {
   "cell_type": "code",
   "execution_count": 33,
   "metadata": {},
   "outputs": [
    {
     "data": {
      "text/plain": [
       "[1, 4, 6, 4, 1]"
      ]
     },
     "execution_count": 33,
     "metadata": {},
     "output_type": "execute_result"
    }
   ],
   "source": [
    "pascals_triangle(4, specific=True)"
   ]
  },
  {
   "cell_type": "code",
   "execution_count": 34,
   "metadata": {},
   "outputs": [],
   "source": [
    "#%% Imports and functions declarations \n",
    "from math import factorial\n",
    "\n",
    "\n",
    "def combinations(total_num: int, choosen_num: int) -> int:\n",
    "    \"\"\"\n",
    "    Returns the number of available combinations given a number of elements and the subspace selected\n",
    "    :param total_num: number of total elements\n",
    "    :param choosen_num: number of elements of the subspace\n",
    "    :return: number of total combinations\n",
    "    \"\"\"\n",
    "    return int(factorial(total_num)/(factorial(choosen_num)*factorial(total_num-choosen_num)))\n",
    "\n",
    "\n",
    "def nth_row_pascal(num_row: int) -> list:\n",
    "    \"\"\"\n",
    "    Given the number of the row, generates the specifiy values present in this pascal triangle\n",
    "    :param num_row: number of row to represent \n",
    "    :return: pascal's triangle row \n",
    "    \"\"\"\n",
    "    row_result = []\n",
    "    for i in range(num_row+1):\n",
    "        row_result.append(combinations(num_row, i))\n",
    "    return row_result"
   ]
  },
  {
   "cell_type": "code",
   "execution_count": 38,
   "metadata": {},
   "outputs": [],
   "source": [
    "def nth_row_pascal(n: int) -> list:\n",
    "    \n",
    "    row = []\n",
    "    for i in range(n + 1):\n",
    "        row.append(combinations(n, i))\n",
    "    return row   "
   ]
  },
  {
   "cell_type": "code",
   "execution_count": 39,
   "metadata": {},
   "outputs": [
    {
     "data": {
      "text/plain": [
       "[1, 4, 6, 4, 1]"
      ]
     },
     "execution_count": 39,
     "metadata": {},
     "output_type": "execute_result"
    }
   ],
   "source": [
    "nth_row_pascal(4)"
   ]
  }
 ],
 "metadata": {
  "kernelspec": {
   "display_name": "Python 3",
   "language": "python",
   "name": "python3"
  },
  "language_info": {
   "codemirror_mode": {
    "name": "ipython",
    "version": 3
   },
   "file_extension": ".py",
   "mimetype": "text/x-python",
   "name": "python",
   "nbconvert_exporter": "python",
   "pygments_lexer": "ipython3",
   "version": "3.6.8"
  }
 },
 "nbformat": 4,
 "nbformat_minor": 4
}
