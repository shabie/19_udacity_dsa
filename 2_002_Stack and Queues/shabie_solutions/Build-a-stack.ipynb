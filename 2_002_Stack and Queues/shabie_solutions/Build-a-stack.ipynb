{
 "cells": [
  {
   "cell_type": "markdown",
   "metadata": {
    "graffitiCellId": "id_6y54we4"
   },
   "source": [
    "## Building a Stack in Python"
   ]
  },
  {
   "cell_type": "markdown",
   "metadata": {
    "graffitiCellId": "id_g1ksheq"
   },
   "source": [
    "Before we start let us reiterate they key components of a stack. \n",
    "\n",
    "<div class=\"alert alert-block alert-info\">\n",
    "    A stack is a data structure that consists of two main operations: push and pop. A push is when you add an element to the top of the stack and a pop is when you remove an element from the top of the stack. \n",
    "</div>\n",
    "\n",
    "Python 3.x conveniently allows us to demonstate this functionality with a list. When you have a list such as [2,4,5,6] you can decide which end of the list is the bottom and the top of the stack respectivley. Once you decide that, you can use the append, pop or insert function to simulate a stack. We will choose the first element to be the bottom of our stack and therefore be using the append and pop functions to simulate it. Give it a try by implementing the function below!"
   ]
  },
  {
   "cell_type": "markdown",
   "metadata": {
    "graffitiCellId": "id_4lwqlbr"
   },
   "source": [
    "#### Try Building a Stack"
   ]
  },
  {
   "cell_type": "code",
   "execution_count": 1,
   "metadata": {},
   "outputs": [],
   "source": [
    "class Stack:\n",
    "    def __init__(self):\n",
    "\n",
    "        # TODO: Initialize the Stack\n",
    "        self.items = []\n",
    "\n",
    "    def size(self):\n",
    "\n",
    "        # TODO: Check the size of the Stack\n",
    "        return len(self.items)\n",
    "\n",
    "    def push(self, item):\n",
    "\n",
    "        # TODO: Push item onto Stack\n",
    "        self.items.append(item)\n",
    "\n",
    "    def pop(self):\n",
    "\n",
    "        # TODO: Pop item off of the Stack\n",
    "        return self.items.pop() if self.size() else None"
   ]
  },
  {
   "cell_type": "markdown",
   "metadata": {
    "graffitiCellId": "id_kryqy03"
   },
   "source": [
    "#### Test the Stack"
   ]
  },
  {
   "cell_type": "code",
   "execution_count": 2,
   "metadata": {
    "graffitiCellId": "id_12jzlqk"
   },
   "outputs": [
    {
     "name": "stdout",
     "output_type": "stream",
     "text": [
      "['Web Page 1', 'Web Page 2', 'Web Page 3']\n",
      "Pass\n",
      "Pass\n"
     ]
    }
   ],
   "source": [
    "MyStack = Stack()\n",
    "\n",
    "MyStack.push(\"Web Page 1\")\n",
    "MyStack.push(\"Web Page 2\")\n",
    "MyStack.push(\"Web Page 3\")\n",
    "\n",
    "print (MyStack.items)\n",
    "\n",
    "MyStack.pop()\n",
    "MyStack.pop()\n",
    "\n",
    "print (\"Pass\" if (MyStack.items[0] == 'Web Page 1') else \"Fail\")\n",
    "\n",
    "MyStack.pop()\n",
    "\n",
    "print (\"Pass\" if (MyStack.pop() == None) else \"Fail\")"
   ]
  }
 ],
 "metadata": {
  "kernelspec": {
   "display_name": "Python 3",
   "language": "python",
   "name": "python3"
  },
  "language_info": {
   "codemirror_mode": {
    "name": "ipython",
    "version": 3
   },
   "file_extension": ".py",
   "mimetype": "text/x-python",
   "name": "python",
   "nbconvert_exporter": "python",
   "pygments_lexer": "ipython3",
   "version": "3.6.8"
  }
 },
 "nbformat": 4,
 "nbformat_minor": 4
}
