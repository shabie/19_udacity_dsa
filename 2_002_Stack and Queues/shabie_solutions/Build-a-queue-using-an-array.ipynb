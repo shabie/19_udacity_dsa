{
 "cells": [
  {
   "cell_type": "markdown",
   "metadata": {
    "graffitiCellId": "id_7h2s6k2"
   },
   "source": [
    "# Implement a queue using an array\n",
    "\n",
    "In this notebook, we'll look at one way to implement a queue by using an array. First, check out the walkthrough for an overview of the concepts, and then we'll take a look at the code."
   ]
  },
  {
   "cell_type": "markdown",
   "metadata": {
    "graffitiCellId": "id_6e571xi"
   },
   "source": [
    " OK, so those are the characteristics of a queue, but how would we implement those characteristics using an array?"
   ]
  },
  {
   "cell_type": "markdown",
   "metadata": {
    "graffitiCellId": "id_wekpwim"
   },
   "source": [
    "What happens when we run out of space in the array? This is one of the trickier things we'll need to handle with our code."
   ]
  },
  {
   "cell_type": "markdown",
   "metadata": {
    "graffitiCellId": "id_qyngk16"
   },
   "source": [
    "## Functionality\n",
    "\n",
    "Once implemented, our queue will need to have the following functionality:\n",
    "1. `enqueue`  - adds data to the back of the queue\n",
    "2. `dequeue`  - removes data from the front of the queue\n",
    "3. `front`    - returns the element at the front of the queue\n",
    "4. `size`     - returns the number of elements present in the queue\n",
    "5. `is_empty` - returns `True` if there are no elements in the queue, and `False` otherwise\n",
    "6. `_handle_full_capacity` - increases the capacity of the array, for cases in which the queue would otherwise overflow\n",
    "\n",
    "Also, if the queue is empty, `dequeue` and `front` operations should return `None`."
   ]
  },
  {
   "cell_type": "markdown",
   "metadata": {
    "graffitiCellId": "id_2v52var"
   },
   "source": [
    "## 1. Create the `queue` class and its `__init__` method\n",
    "First, have a look at the walkthrough if available."
   ]
  },
  {
   "cell_type": "markdown",
   "metadata": {
    "graffitiCellId": "id_v0ke48l"
   },
   "source": [
    "Now give it a try for yourself. In the cell below:\n",
    "* Define a class named `Queue` and add the `__init__` method\n",
    "* Initialize the `arr` attribute with an array containing 10 elements, like this: `[0, 0, 0, 0, 0, 0, 0, 0, 0, 0]`\n",
    "* Initialize the `next_index` attribute\n",
    "* Initialize the `front_index` attribute\n",
    "* Initialize the `queue_size` attribute"
   ]
  },
  {
   "cell_type": "code",
   "execution_count": 4,
   "metadata": {},
   "outputs": [],
   "source": [
    "class Queue:\n",
    "    def __init__(self, queue_size: int=10):\n",
    "        self.arr = [0] * queue_size\n",
    "        self.next_index = None\n",
    "        self.front_index = None\n",
    "        self.queue_size = 0"
   ]
  },
  {
   "cell_type": "markdown",
   "metadata": {
    "graffitiCellId": "id_ajja0hs"
   },
   "source": [
    "Let's check that the array is being initialized correctly. We can create a `Queue` object and access the `arr` attribute, and we should see our ten-element array:"
   ]
  },
  {
   "cell_type": "code",
   "execution_count": 5,
   "metadata": {
    "graffitiCellId": "id_81eds91"
   },
   "outputs": [
    {
     "name": "stdout",
     "output_type": "stream",
     "text": [
      "[0, 0, 0, 0, 0, 0, 0, 0, 0, 0]\n",
      "Pass\n"
     ]
    }
   ],
   "source": [
    "q = Queue()\n",
    "print(q.arr)\n",
    "print(\"Pass\" if q.arr == [0, 0, 0, 0, 0, 0, 0, 0, 0, 0] else \"Fail\")"
   ]
  },
  {
   "cell_type": "markdown",
   "metadata": {
    "graffitiCellId": "id_ctk4wmp"
   },
   "source": [
    "## 2. Add the `enqueue` method"
   ]
  },
  {
   "cell_type": "markdown",
   "metadata": {
    "graffitiCellId": "id_4l8cnvy"
   },
   "source": [
    "In the cell below, add the code for the enqueue method.\n",
    "\n",
    "The method should:\n",
    "* Take a value as input and assign this value to the next free slot in the array\n",
    "* Increment `queue_size`\n",
    "* Increment `next_index` (this is where you'll need to use the modulo operator `%`)\n",
    "* If the front index is `-1` (because the queue was empty), it should set the front index to `0`"
   ]
  },
  {
   "cell_type": "code",
   "execution_count": 8,
   "metadata": {},
   "outputs": [],
   "source": [
    "class Queue:\n",
    "    def __init__(self, queue_size: int=10):\n",
    "        self.arr = [0] * queue_size\n",
    "        self.next_index = 0\n",
    "        self.front_index = None\n",
    "        self.queue_size = 0\n",
    "        \n",
    "    def enqueue(self, value):\n",
    "        self.arr[self.next_index] = value\n",
    "        self.queue_size += 1\n",
    "        self.next_index = (self.next_index + 1) % len(self.arr)  # bring cursor back to start once queue is full\n",
    "        if self.front_index is None:\n",
    "            self.front_index = 0"
   ]
  },
  {
   "cell_type": "markdown",
   "metadata": {
    "graffitiCellId": "id_yw3ieol"
   },
   "source": [
    "## 3. Add the `size`,  `is_empty`, and `front` methods\n",
    "\n",
    "Just like with stacks, we need methods to keep track of the size of the queue and whether it is empty. We can also add a `front` method that returns the value of the front element.\n",
    "* Add a `size` method that returns the current size of the queue\n",
    "* Add an `is_empty` method that returns `True` if the queue is empty and `False` otherwise\n",
    "* Add a `front` method that returns the value for the front element (whatever item is located at the `front_index` position). If the queue is empty, the `front` method should return None."
   ]
  },
  {
   "cell_type": "code",
   "execution_count": 9,
   "metadata": {},
   "outputs": [],
   "source": [
    "class Queue:\n",
    "    def __init__(self, queue_size: int=10):\n",
    "        self.arr = [0] * queue_size\n",
    "        self.next_index = 0\n",
    "        self.front_index = -1\n",
    "        self.queue_size = 0\n",
    "        \n",
    "    def enqueue(self, value):\n",
    "        self.arr[self.next_index] = value\n",
    "        self.queue_size += 1\n",
    "        self.next_index = (self.next_index + 1) % len(self.arr)  # bring cursor back to start once queue is full\n",
    "        if self.front_index is None:\n",
    "            self.front_index = 0\n",
    "            \n",
    "    def size(self):\n",
    "        return self.queue_size\n",
    "    \n",
    "    def is_empty(self):\n",
    "        return self.queue_size == 0\n",
    "    \n",
    "    def front(self):\n",
    "        return self.arr[self.front_index] if self.front_index >= 0 else None"
   ]
  },
  {
   "cell_type": "markdown",
   "metadata": {
    "graffitiCellId": "id_o74nheg"
   },
   "source": [
    "## 4. Add the `dequeue` method"
   ]
  },
  {
   "cell_type": "markdown",
   "metadata": {
    "graffitiCellId": "id_htn2xep"
   },
   "source": [
    "In the cell below, see if you can add the `deqeueue` method.\n",
    "\n",
    "Here's what it should do:\n",
    "* If the queue is empty, reset the `front_index` and `next_index` and then simply return `None`. Otherwise...\n",
    "* Get the value from the front of the queue and store this in a local variable (to `return` later)\n",
    "* Shift the `head` over so that it refers to the next index\n",
    "* Update the `queue_size` attribute\n",
    "* Return the value that was dequeued"
   ]
  },
  {
   "cell_type": "code",
   "execution_count": 10,
   "metadata": {},
   "outputs": [],
   "source": [
    "class Queue:\n",
    "    def __init__(self, queue_size: int=10):\n",
    "        self.arr = [0] * queue_size\n",
    "        self.next_index = 0\n",
    "        self.front_index = -1\n",
    "        self.queue_size = 0\n",
    "        \n",
    "    def enqueue(self, value):\n",
    "        self.arr[self.next_index] = value\n",
    "        self.queue_size += 1\n",
    "        self.next_index = (self.next_index + 1) % len(self.arr)  # bring cursor back to start once queue is full\n",
    "        if self.front_index is None:\n",
    "            self.front_index = 0\n",
    "            \n",
    "    def size(self):\n",
    "        return self.queue_size\n",
    "    \n",
    "    def is_empty(self):\n",
    "        return self.queue_size == 0\n",
    "    \n",
    "    def front(self):\n",
    "        return self.arr[self.front_index] if self.front_index >= 0 else None\n",
    "    \n",
    "    def dequeue(self):\n",
    "        if self.is_empty():\n",
    "            self.front_index = -1\n",
    "            self.next_index = 0\n",
    "            return None\n",
    "        else:\n",
    "            ret_val = self.arr[self.front_index]\n",
    "            self.front_index += 1  (self.front_index + 1) % len(self.arr)  # bring cursor back to start once queue is full\n",
    "            self.queue_size -= 1\n",
    "            return ret_val"
   ]
  },
  {
   "cell_type": "markdown",
   "metadata": {
    "graffitiCellId": "id_fim1y99"
   },
   "source": [
    "## 5. Add the `_handle_queue_capacity_full` method"
   ]
  },
  {
   "cell_type": "markdown",
   "metadata": {
    "graffitiCellId": "id_9aj8z9m"
   },
   "source": [
    "First, define the `_handle_queue_capacity_full` method:\n",
    "* Define an `old_arr` variable and assign the the current (full) array so that we have a copy of it\n",
    "* Create a new (larger) array and assign it to `arr`.\n",
    "* Iterate over the values in the old array and copy them to the new array. Remember that you'll need two `for` loops for this.\n",
    "\n",
    "Then, in the `enqueue` method:\n",
    "* Add a conditional to check if the queue is full; if it is, call  `_handle_queue_capacity_full`"
   ]
  },
  {
   "cell_type": "code",
   "execution_count": 10,
   "metadata": {},
   "outputs": [],
   "source": [
    "class Queue:\n",
    "    def __init__(self, queue_size: int=10):\n",
    "        self.arr = [0] * queue_size  # meant to be an O(N) operation\n",
    "        self.next_index = 0\n",
    "        self.front_index = -1\n",
    "        self.queue_size = 0\n",
    "        \n",
    "    def enqueue(self, value):\n",
    "        self.arr[self.next_index] = value\n",
    "        self.queue_size += 1\n",
    "        self.next_index = (self.next_index + 1) % len(self.arr)  # bring cursor back to start once queue is full\n",
    "        if self.front_index is None:\n",
    "            self.front_index = 0\n",
    "            \n",
    "    def size(self):\n",
    "        return self.queue_size\n",
    "    \n",
    "    def is_empty(self):\n",
    "        return self.queue_size == 0\n",
    "    \n",
    "    def front(self):\n",
    "        return self.arr[self.front_index] if self.front_index >= 0 else None\n",
    "    \n",
    "    def dequeue(self):\n",
    "        if self.is_empty():\n",
    "            self.front_index = -1\n",
    "            self.next_index = 0\n",
    "            return None\n",
    "        else:\n",
    "            ret_val = self.arr[self.front_index]\n",
    "            self.front_index = (self.front_index + 1) % len(self.arr)  # bring cursor back to start once queue is full\n",
    "            self.queue_size -= 1\n",
    "            return ret_val\n",
    "        \n",
    "    def _handle_queue_capacity_full(self):\n",
    "        old_arr = self.arr\n",
    "        self.arr = [0] * (len(self.arr) * 2)\n",
    "        for val in old_arr:\n",
    "            self.arr"
   ]
  },
  {
   "cell_type": "code",
   "execution_count": null,
   "metadata": {},
   "outputs": [],
   "source": []
  }
 ],
 "metadata": {
  "kernelspec": {
   "display_name": "Python 3",
   "language": "python",
   "name": "python3"
  },
  "language_info": {
   "codemirror_mode": {
    "name": "ipython",
    "version": 3
   },
   "file_extension": ".py",
   "mimetype": "text/x-python",
   "name": "python",
   "nbconvert_exporter": "python",
   "pygments_lexer": "ipython3",
   "version": "3.6.8"
  }
 },
 "nbformat": 4,
 "nbformat_minor": 4
}
