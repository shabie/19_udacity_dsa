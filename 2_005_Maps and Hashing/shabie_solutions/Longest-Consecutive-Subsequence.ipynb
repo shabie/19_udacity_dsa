{
 "cells": [
  {
   "cell_type": "markdown",
   "metadata": {
    "graffitiCellId": "id_vhxf50c"
   },
   "source": [
    "### Problem Statement\n",
    "\n",
    "Given list of integers that contain numbers in random order, write a program to find the longest possible sub sequence of consecutive numbers in the array. Return this subsequence in sorted order. The solution must take O(n) time\n",
    "\n",
    "For e.g. given the list `5, 4, 7, 10, 1, 3, 55, 2`, the output should be `1, 2, 3, 4, 5`\n",
    "\n",
    "*Note- If two arrays are of equal length return the array whose index of smallest element comes first.*\n",
    "\n"
   ]
  },
  {
   "cell_type": "code",
   "execution_count": 85,
   "metadata": {},
   "outputs": [],
   "source": [
    "def longest_consecutive_subsequence(nums):\n",
    "    \n",
    "    \"\"\"\n",
    "    Space complexity: O(n)\n",
    "    Time complexity : O(n)\n",
    "    \n",
    "    The inner while loop runs through the num_set only once per function call. \n",
    "    Hence overall time complexity is not O(n * n) rather O(n + n) which is O(n)\n",
    "    \"\"\"\n",
    "    \n",
    "    longest_streak = []\n",
    "    num_set = {}\n",
    "    \n",
    "    # create dict to store all elements and their indices. Except for tie-breaker dict used like a set in this function\n",
    "    for ix, e in enumerate(nums):\n",
    "        num_set[e] = ix\n",
    "\n",
    "    for num in num_set:\n",
    "        if num - 1 not in num_set:  # a streak starts ONLY when its lower-bound is found. GENIUS! Why? Makes subsequent search trivial.\n",
    "            curr_num = num\n",
    "            curr_streak = [curr_num]\n",
    "\n",
    "            while curr_num + 1 in num_set:  # this loop runs through the whole num_set only once per function call\n",
    "                curr_num += 1\n",
    "                curr_streak.append(curr_num)  # add it to the final sorted list\n",
    "\n",
    "            # keep track of the longest streak\n",
    "            if len(longest_streak) == len(curr_streak):\n",
    "                if num_set[longest_streak[0]] > num_set[curr_streak[0]]:  # Tie-breaker: Only time index lookup is needed.\n",
    "                    longest_streak = curr_streak\n",
    "            elif len(longest_streak) < len(curr_streak):\n",
    "                longest_streak = curr_streak\n",
    "\n",
    "    return longest_streak"
   ]
  },
  {
   "cell_type": "markdown",
   "metadata": {},
   "source": [
    "My weaker points:\n",
    "\n",
    "1. As I programmed my way into a mess of having to look both ways (like if I start with 5 then I need to check the presence of 4 and 6. When I find 4 I need to check both 6 and 3 etc.), it did not occur to me to ignore exactly those numbers and first search for one end of the streak. \n",
    "\n",
    "2. Granted it is not simple to stumble upon this idea but one way would be to precisely \"wish\" for an easier version of problem (for example the longest sequence is ordered but separated in the array) and solve for that... \n",
    "\n",
    "3. Or realize that as problems with the logic rise, there's almost certainly a simpler way to do things given the time frame. The goal of such problems is not if you can write  200 lines of simple code but elegant 20 line code.\n",
    "\n",
    "4. People have used a DFS and I need to know how that solution works."
   ]
  },
  {
   "cell_type": "code",
   "execution_count": 86,
   "metadata": {
    "graffitiCellId": "id_hlznh6q"
   },
   "outputs": [],
   "source": [
    "def test_function(test_case):\n",
    "    output = longest_consecutive_subsequence(test_case[0])\n",
    "    print(output)\n",
    "    if output == test_case[1]:\n",
    "        print(\"Pass\")\n",
    "    else:\n",
    "        \n",
    "        print(\"Fail\")"
   ]
  },
  {
   "cell_type": "code",
   "execution_count": 87,
   "metadata": {
    "graffitiCellId": "id_z2y7gsr"
   },
   "outputs": [
    {
     "name": "stdout",
     "output_type": "stream",
     "text": [
      "[1, 2, 3, 4, 5]\n",
      "Pass\n"
     ]
    }
   ],
   "source": [
    "test_case_1 = [[5, 4, 7, 10, 1, 3, 55, 2], [1, 2, 3, 4, 5]]\n",
    "test_function(test_case_1)"
   ]
  },
  {
   "cell_type": "code",
   "execution_count": 88,
   "metadata": {
    "graffitiCellId": "id_a3yf5ol"
   },
   "outputs": [
    {
     "name": "stdout",
     "output_type": "stream",
     "text": [
      "[8, 9, 10, 11, 12]\n",
      "Pass\n"
     ]
    }
   ],
   "source": [
    "test_case_2 = [[2, 12, 9, 16, 10, 5, 3, 20, 25, 11, 1, 8, 6 ], [8, 9, 10, 11, 12]]\n",
    "test_function(test_case_2)"
   ]
  },
  {
   "cell_type": "code",
   "execution_count": 89,
   "metadata": {
    "graffitiCellId": "id_u5rs0q7"
   },
   "outputs": [
    {
     "name": "stdout",
     "output_type": "stream",
     "text": [
      "[0, 1, 2, 3, 4]\n",
      "Pass\n"
     ]
    }
   ],
   "source": [
    "test_case_3 = [[0, 1, 2, 3, 4], [0, 1, 2, 3, 4]]\n",
    "test_function(test_case_3)"
   ]
  },
  {
   "cell_type": "code",
   "execution_count": 90,
   "metadata": {},
   "outputs": [
    {
     "name": "stdout",
     "output_type": "stream",
     "text": [
      "[6, 7, 8, 9]\n",
      "Pass\n"
     ]
    }
   ],
   "source": [
    "test_case_4 = [[6, 7, 8, 9, 1, 2, 3, 4], [6, 7, 8, 9]]\n",
    "test_function(test_case_4)"
   ]
  },
  {
   "cell_type": "markdown",
   "metadata": {
    "graffitiCellId": "id_et1ek54"
   },
   "source": [
    "<span class=\"graffiti-highlight graffiti-id_et1ek54-id_r15x1vg\"><i></i><button>Show Solution</button></span>"
   ]
  }
 ],
 "metadata": {
  "graffiti": {
   "firstAuthorId": "10694620118",
   "id": "id_alotytm",
   "language": "EN"
  },
  "kernelspec": {
   "display_name": "Python 3",
   "language": "python",
   "name": "python3"
  },
  "language_info": {
   "codemirror_mode": {
    "name": "ipython",
    "version": 3
   },
   "file_extension": ".py",
   "mimetype": "text/x-python",
   "name": "python",
   "nbconvert_exporter": "python",
   "pygments_lexer": "ipython3",
   "version": "3.6.9"
  }
 },
 "nbformat": 4,
 "nbformat_minor": 4
}
