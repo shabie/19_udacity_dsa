{
 "cells": [
  {
   "cell_type": "markdown",
   "metadata": {
    "graffitiCellId": "id_1myd4mr"
   },
   "source": [
    "### Problem statement\n",
    "\n",
    "In an encryption system where ASCII lower case letters represent numbers in the pattern `a=1, b=2, c=3...` and so on, find out all the codes that are possible for a given input number. \n",
    "\n",
    "**Example 1**\n",
    "\n",
    "* `number = 123`\n",
    "* `codes_possible = [\"aw\", \"abc\", \"lc\"]`\n",
    "\n",
    "Explanation: The codes are for the following number:\n",
    "         \n",
    "* 1 . 23     = \"aw\"\n",
    "* 1 . 2 . 3  = \"abc\"\n",
    "* 12 . 3     = \"lc\"\n",
    "    \n",
    "\n",
    "**Example 2**  \n",
    "\n",
    "* `number = 145`\n",
    "* `codes_possible = [\"ade\", \"ne\"]`\n",
    "\n",
    "Return the codes in a list. The order of codes in the list is not important.\n",
    "\n",
    "*Note: you can assume that the input number will not contain any 0s*"
   ]
  },
  {
   "cell_type": "code",
   "execution_count": 75,
   "metadata": {},
   "outputs": [],
   "source": [
    "from math import log10\n",
    "\n",
    "def get_alphabet(digit):\n",
    "    \"\"\"\n",
    "    Helper function to figure out alphabet of a particular number\n",
    "    Remember: \n",
    "        * ASCII for lower case 'a' = 97\n",
    "        * chr(num) returns ASCII character for a number e.g. chr(65) ==> 'A'\n",
    "    \"\"\"\n",
    "    return chr(digit + 96)\n",
    "\n",
    "\n",
    "def all_codes(number):\n",
    "\n",
    "    # Step 0: if number is a single digit return its character\n",
    "    if number == 0:\n",
    "        return []\n",
    "    elif number < 10:\n",
    "        return [get_alphabet(number)]\n",
    "\n",
    "    # Step 1: check count of single digits\n",
    "    num_digits = int(log10(number) + 1)\n",
    "\n",
    "    results = []\n",
    "\n",
    "    # Step 2: isolate last digit and get its character. For example 3 in 123\n",
    "    last_digit = number % 10\n",
    "    last_digit_chr = get_alphabet(last_digit)\n",
    "\n",
    "    # Step 3: Get the codes of remaining digits\n",
    "    remain = number // 10\n",
    "    remain_codes = all_codes(remain)\n",
    "\n",
    "    # Step 4: Append the single char to the codes of remaining digits\n",
    "    for code in remain_codes:\n",
    "        results.append(code + last_digit_chr)\n",
    "\n",
    "    # Step 5a: Check if this last single digit can be combined with the next one to create alphabets. For example 23 in 123\n",
    "    divisor = 10 ** max((num_digits - 1), 2)  # divisior can't be < than 100 bec. last_two_digits becomes a single digit which is wrong\n",
    "    last_two_digits = number % divisor\n",
    "    is_valid_alphabet_number = 0 < last_two_digits <= 26\n",
    "\n",
    "    # Step 5b: if yes, generate other combinations with which it can be combined\n",
    "    if is_valid_alphabet_number:\n",
    "        remain = number // divisor\n",
    "        remain_codes = all_codes(remain)\n",
    "\n",
    "        last_two_digits_chr = get_alphabet(last_two_digits)\n",
    "\n",
    "        if len(remain_codes) > 0:\n",
    "            for code in remain_codes:\n",
    "                results.append(code + last_two_digits_chr)\n",
    "        else:\n",
    "            results.append(last_two_digits_chr)  # in a 2-digit only scenario remain_codes is empty and the alphabet itself is to be appended\n",
    "\n",
    "    return results"
   ]
  },
  {
   "cell_type": "code",
   "execution_count": 76,
   "metadata": {
    "graffitiCellId": "id_byos91q"
   },
   "outputs": [],
   "source": [
    "def test_function(test_case):\n",
    "    number = test_case[0]\n",
    "    solution = test_case[1]\n",
    "    \n",
    "    output = all_codes(number)\n",
    "    \n",
    "    output.sort()\n",
    "    solution.sort()\n",
    "    \n",
    "    if output == solution:\n",
    "        print(\"Pass\")\n",
    "    else:\n",
    "        print(\"Fail\")"
   ]
  },
  {
   "cell_type": "code",
   "execution_count": 77,
   "metadata": {
    "graffitiCellId": "id_l3o11vy"
   },
   "outputs": [
    {
     "name": "stdout",
     "output_type": "stream",
     "text": [
      "Pass\n"
     ]
    }
   ],
   "source": [
    "number = 123\n",
    "solution = ['abc', 'aw', 'lc']\n",
    "test_case = [number, solution]\n",
    "test_function(test_case)"
   ]
  },
  {
   "cell_type": "code",
   "execution_count": 78,
   "metadata": {
    "graffitiCellId": "id_a5y5trj"
   },
   "outputs": [
    {
     "name": "stdout",
     "output_type": "stream",
     "text": [
      "Pass\n"
     ]
    }
   ],
   "source": [
    "number = 145\n",
    "solution =  ['ade', 'ne']\n",
    "test_case = [number, solution]\n",
    "test_function(test_case)"
   ]
  },
  {
   "cell_type": "code",
   "execution_count": 79,
   "metadata": {
    "graffitiCellId": "id_ujafvah"
   },
   "outputs": [
    {
     "name": "stdout",
     "output_type": "stream",
     "text": [
      "Pass\n"
     ]
    }
   ],
   "source": [
    "number = 1145\n",
    "solution =  ['aade', 'ane', 'kde']\n",
    "test_case = [number, solution]\n",
    "test_function(test_case)"
   ]
  },
  {
   "cell_type": "code",
   "execution_count": 80,
   "metadata": {
    "graffitiCellId": "id_6d1dxt9"
   },
   "outputs": [
    {
     "name": "stdout",
     "output_type": "stream",
     "text": [
      "Pass\n"
     ]
    }
   ],
   "source": [
    "number = 4545\n",
    "solution = ['dede']\n",
    "test_case = [number, solution]\n",
    "test_function(test_case)"
   ]
  }
 ],
 "metadata": {
  "kernelspec": {
   "display_name": "Python 3",
   "language": "python",
   "name": "python3"
  },
  "language_info": {
   "codemirror_mode": {
    "name": "ipython",
    "version": 3
   },
   "file_extension": ".py",
   "mimetype": "text/x-python",
   "name": "python",
   "nbconvert_exporter": "python",
   "pygments_lexer": "ipython3",
   "version": "3.6.8"
  }
 },
 "nbformat": 4,
 "nbformat_minor": 4
}
