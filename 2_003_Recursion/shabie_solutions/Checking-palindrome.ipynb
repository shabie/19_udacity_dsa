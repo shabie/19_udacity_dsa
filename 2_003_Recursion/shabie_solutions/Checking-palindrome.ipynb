{
 "cells": [
  {
   "cell_type": "markdown",
   "metadata": {
    "graffitiCellId": "id_0635rqb"
   },
   "source": [
    "# Palindrome"
   ]
  },
  {
   "cell_type": "markdown",
   "metadata": {
    "graffitiCellId": "id_5r6hrt5"
   },
   "source": [
    "A **palindrome** is a word that is the reverse of itself—that is, it is the same word when read forwards and backwards.\n",
    "\n",
    "For example:\n",
    "*  \"madam\" is a palindrome\n",
    "* \"abba\" is a palindrome\n",
    "*  \"cat\" is not\n",
    "*  \"a\" is a trivial case of a palindrome\n",
    "\n",
    "The goal of this exercise is to use recursion to write a function `is_palindrome` that takes a string as input and checks whether that string is a palindrome. (Note that this problem can also be solved with a non-recursive solution, but that's not the point of this exercise.)"
   ]
  },
  {
   "cell_type": "code",
   "execution_count": 11,
   "metadata": {},
   "outputs": [],
   "source": [
    "def is_palindrome(word):\n",
    "    \n",
    "    if len(word) > 1:\n",
    "        return (word[0] == word[-1]) & is_palindrome(word[1:-1])\n",
    "    else:\n",
    "        return True"
   ]
  },
  {
   "cell_type": "code",
   "execution_count": 15,
   "metadata": {},
   "outputs": [
    {
     "name": "stdout",
     "output_type": "stream",
     "text": [
      "Pass\n",
      "Pass\n",
      "Pass\n",
      "Pass\n",
      "Pass\n"
     ]
    }
   ],
   "source": [
    "# Test Cases\n",
    "print (\"Pass\" if  (is_palindrome(\"\")) else \"Fail\")\n",
    "print (\"Pass\" if  (is_palindrome(\"a\")) else \"Fail\")\n",
    "print (\"Pass\" if  (is_palindrome(\"madam\")) else \"Fail\")\n",
    "print (\"Pass\" if  (is_palindrome(\"abba\")) else \"Fail\")\n",
    "print (\"Pass\" if not (is_palindrome(\"Udacity\")) else \"Fail\")"
   ]
  }
 ],
 "metadata": {
  "kernelspec": {
   "display_name": "Python 3",
   "language": "python",
   "name": "python3"
  },
  "language_info": {
   "codemirror_mode": {
    "name": "ipython",
    "version": 3
   },
   "file_extension": ".py",
   "mimetype": "text/x-python",
   "name": "python",
   "nbconvert_exporter": "python",
   "pygments_lexer": "ipython3",
   "version": "3.6.8"
  }
 },
 "nbformat": 4,
 "nbformat_minor": 4
}
