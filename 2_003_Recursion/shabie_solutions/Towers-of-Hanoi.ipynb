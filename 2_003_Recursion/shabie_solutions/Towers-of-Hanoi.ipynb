{
 "cells": [
  {
   "cell_type": "markdown",
   "metadata": {
    "graffitiCellId": "id_wzbr23x"
   },
   "source": [
    "### Problem Statement\n",
    "\n",
    "The Tower of Hanoi is a puzzle where we have three rods and `n` disks. The three rods are:\n",
    "    1. source\n",
    "    2. destination\n",
    "    3. auxiliary\n",
    "\n",
    "Initally, all the `n` disks are present on the source rod. The final objective of the puzzle is to move all disks from the source rod to the destination rod using the auxiliary rod. However, there are some rules according to which this has to be done:\n",
    "\n",
    "    1. Only one disk can be moved at a time.\n",
    "    2. A disk can be moved only if it is on the top of a rod.\n",
    "    3. No disk can be placed on the top of a smaller disk.\n",
    "    \n",
    "You will be given the number of disks `num_disks` as the input parameter. \n",
    "\n",
    "For example, if you have `num_disks = 2`, then the disks should be moved as follows:\n",
    "    \n",
    "        1. move disk from source to auxiliary\n",
    "        2. move disk from source to destination\n",
    "        3. move disk from auxiliary to destination\n",
    "        \n",
    "You must print these steps as follows:    \n",
    "\n",
    "        S A\n",
    "        S D\n",
    "        A D\n",
    "        \n",
    "Where S = source, D = destination, A = auxiliary\n"
   ]
  },
  {
   "cell_type": "code",
   "execution_count": 9,
   "metadata": {},
   "outputs": [],
   "source": [
    "# Solution\n",
    "\n",
    "def move(num_disks, source, auxiliary, destination):\n",
    "\n",
    "    if num_disks == 0:\n",
    "        return\n",
    "\n",
    "    if num_disks == 1:\n",
    "        print(f'{source} {destination}')\n",
    "        return\n",
    "\n",
    "    move(num_disks - 1, source, destination, auxiliary)  # move n-1 disks from src to aux. How? let recursion do it!\n",
    "    print(f'{source} {destination}')                     # move last one (the largest) from src to dest\n",
    "    move(num_disks - 1, auxiliary, source, destination)  # move n-1 disks waiting in aux to dest. How? let recursion do it!\n",
    "\n",
    "def tower_of_Hanoi(num_disks):\n",
    "    move(num_disks, 'S', 'A', 'D')"
   ]
  },
  {
   "cell_type": "code",
   "execution_count": 10,
   "metadata": {},
   "outputs": [
    {
     "name": "stdout",
     "output_type": "stream",
     "text": [
      "S D\n",
      "S A\n",
      "D A\n",
      "S D\n",
      "A S\n",
      "A D\n",
      "S D\n"
     ]
    }
   ],
   "source": [
    "tower_of_Hanoi(3)"
   ]
  },
  {
   "cell_type": "markdown",
   "metadata": {},
   "source": [
    "### Explanation\n",
    "\n",
    "The trick is to not be tempted to unroll the recursion."
   ]
  }
 ],
 "metadata": {
  "kernelspec": {
   "display_name": "Python 3",
   "language": "python",
   "name": "python3"
  },
  "language_info": {
   "codemirror_mode": {
    "name": "ipython",
    "version": 3
   },
   "file_extension": ".py",
   "mimetype": "text/x-python",
   "name": "python",
   "nbconvert_exporter": "python",
   "pygments_lexer": "ipython3",
   "version": "3.6.8"
  }
 },
 "nbformat": 4,
 "nbformat_minor": 4
}
