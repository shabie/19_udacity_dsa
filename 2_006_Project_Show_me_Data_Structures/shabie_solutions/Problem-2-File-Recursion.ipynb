{
 "cells": [
  {
   "cell_type": "code",
   "execution_count": 26,
   "metadata": {},
   "outputs": [],
   "source": [
    "import os\n",
    "\n",
    "def find_files(suffix, path):\n",
    "    \"\"\"\n",
    "    Find all files beneath path with file name suffix.\n",
    "\n",
    "    Note that a path may contain further subdirectories\n",
    "    and those subdirectories may also contain further subdirectories.\n",
    "\n",
    "    There are no limit to the depth of the subdirectories can be.\n",
    "\n",
    "    Args:\n",
    "      suffix(str): suffix if the file name to be found\n",
    "      path(str): path of the file system\n",
    "\n",
    "    Returns:\n",
    "       a list of paths\n",
    "    \"\"\"\n",
    "\n",
    "    assert os.path.exists(path), f\"Path {path} does not exist\"\n",
    "    \n",
    "    contents = os.listdir(path)\n",
    "    files = []\n",
    "    subdirs = []\n",
    "    for x in contents:\n",
    "        # path = os.path.abspath(path)\n",
    "        fp = os.path.join(path, x)\n",
    "        if fp.endswith(suffix):\n",
    "            files.append(fp)\n",
    "        elif os.path.isdir(fp):\n",
    "            files.extend(find_files(suffix, fp))\n",
    "        else:\n",
    "            pass  # do nothing\n",
    "        \n",
    "    return files"
   ]
  },
  {
   "cell_type": "code",
   "execution_count": 27,
   "metadata": {},
   "outputs": [
    {
     "data": {
      "text/plain": [
       "['../testdir/subdir1/a.h',\n",
       " '../testdir/subdir1/.ipynb_checkpoints/a-checkpoint.h',\n",
       " '../testdir/subdir5/a.h',\n",
       " '../testdir/subdir3/subsubdir1/b.h',\n",
       " '../testdir/.ipynb_checkpoints/t1-checkpoint.h',\n",
       " '../testdir/t1.h']"
      ]
     },
     "execution_count": 27,
     "metadata": {},
     "output_type": "execute_result"
    }
   ],
   "source": [
    "find_files(\".h\", \"../testdir/\")"
   ]
  }
 ],
 "metadata": {
  "kernelspec": {
   "display_name": "Python 3",
   "language": "python",
   "name": "python3"
  },
  "language_info": {
   "codemirror_mode": {
    "name": "ipython",
    "version": 3
   },
   "file_extension": ".py",
   "mimetype": "text/x-python",
   "name": "python",
   "nbconvert_exporter": "python",
   "pygments_lexer": "ipython3",
   "version": "3.6.9"
  }
 },
 "nbformat": 4,
 "nbformat_minor": 4
}
