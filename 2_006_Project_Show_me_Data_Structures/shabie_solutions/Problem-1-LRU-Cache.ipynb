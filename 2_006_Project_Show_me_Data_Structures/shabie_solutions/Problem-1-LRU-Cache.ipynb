{
 "cells": [
  {
   "cell_type": "code",
   "execution_count": 47,
   "metadata": {},
   "outputs": [],
   "source": [
    "from collections import deque, OrderedDict\n",
    "\n",
    "class LRU_Cache(OrderedDict):\n",
    "    \n",
    "    # Answer hint: https://docs.python.org/3/library/collections.html#ordereddict-examples-and-recipes\n",
    "\n",
    "    def __init__(self, capacity=5):\n",
    "        # TODO: Initialize instance variables\n",
    "        \n",
    "        if self._is_capacity_valid(capacity):\n",
    "            self.capacity = capacity\n",
    "\n",
    "    def get(self, key):\n",
    "        # TODO: Retrieve item from provided key. Return -1 if nonexistent.\n",
    "  \n",
    "        return OrderedDict.get(self, key, -1)\n",
    "\n",
    "    def set(self, key, value):\n",
    "        # TODO: Set the value if the key is not present in the cache. If the cache is at capacity remove the oldest item. \n",
    "        \n",
    "        if len(self) == self.capacity:  \n",
    "             self.popitem(last=False)\n",
    "        OrderedDict.__setitem__(self, key, value)\n",
    "        \n",
    "    @staticmethod\n",
    "    def _is_capacity_valid(capacity):\n",
    "        if not isinstance(capacity, (int, float)):\n",
    "            raise ValueError(\"Please enter a valid number\")\n",
    "        elif capacity <= 0.:\n",
    "            raise ValueError(\"Capacity can't be less than or equal to 0. Please enter a valid number\")\n",
    "        elif capacity % 1 != 0.:\n",
    "            raise ValueError(\"Please enter a positive integer or non-decimal number\")\n",
    "        else:\n",
    "            return True"
   ]
  },
  {
   "cell_type": "code",
   "execution_count": 48,
   "metadata": {},
   "outputs": [
    {
     "name": "stdout",
     "output_type": "stream",
     "text": [
      "1\n",
      "2\n",
      "-1\n",
      "-1\n",
      "10\n",
      "2\n"
     ]
    },
    {
     "ename": "ValueError",
     "evalue": "Capacity can't be less than or equal to 0. Please enter a valid number",
     "output_type": "error",
     "traceback": [
      "\u001b[0;31m---------------------------------------------------------------------------\u001b[0m",
      "\u001b[0;31mValueError\u001b[0m                                Traceback (most recent call last)",
      "\u001b[0;32m<ipython-input-48-80dd44898ed1>\u001b[0m in \u001b[0;36m<module>\u001b[0;34m\u001b[0m\n\u001b[1;32m     23\u001b[0m \u001b[0mprint\u001b[0m\u001b[0;34m(\u001b[0m\u001b[0mour_cache\u001b[0m\u001b[0;34m.\u001b[0m\u001b[0mget\u001b[0m\u001b[0;34m(\u001b[0m\u001b[0;36m2\u001b[0m\u001b[0;34m)\u001b[0m\u001b[0;34m)\u001b[0m   \u001b[0;31m# should return 2\u001b[0m\u001b[0;34m\u001b[0m\u001b[0;34m\u001b[0m\u001b[0m\n\u001b[1;32m     24\u001b[0m \u001b[0;34m\u001b[0m\u001b[0m\n\u001b[0;32m---> 25\u001b[0;31m \u001b[0mour_cache\u001b[0m \u001b[0;34m=\u001b[0m \u001b[0mLRU_Cache\u001b[0m\u001b[0;34m(\u001b[0m\u001b[0;36m0\u001b[0m\u001b[0;34m)\u001b[0m\u001b[0;34m\u001b[0m\u001b[0;34m\u001b[0m\u001b[0m\n\u001b[0m\u001b[1;32m     26\u001b[0m \u001b[0mour_cache\u001b[0m \u001b[0;34m=\u001b[0m \u001b[0mLRU_Cache\u001b[0m\u001b[0;34m(\u001b[0m\u001b[0;34m-\u001b[0m\u001b[0;36m1\u001b[0m\u001b[0;34m)\u001b[0m\u001b[0;34m\u001b[0m\u001b[0;34m\u001b[0m\u001b[0m\n",
      "\u001b[0;32m<ipython-input-47-5bd81b651e68>\u001b[0m in \u001b[0;36m__init__\u001b[0;34m(self, capacity)\u001b[0m\n\u001b[1;32m      8\u001b[0m         \u001b[0;31m# TODO: Initialize instance variables\u001b[0m\u001b[0;34m\u001b[0m\u001b[0;34m\u001b[0m\u001b[0;34m\u001b[0m\u001b[0m\n\u001b[1;32m      9\u001b[0m \u001b[0;34m\u001b[0m\u001b[0m\n\u001b[0;32m---> 10\u001b[0;31m         \u001b[0;32mif\u001b[0m \u001b[0mself\u001b[0m\u001b[0;34m.\u001b[0m\u001b[0m_is_capacity_valid\u001b[0m\u001b[0;34m(\u001b[0m\u001b[0mcapacity\u001b[0m\u001b[0;34m)\u001b[0m\u001b[0;34m:\u001b[0m\u001b[0;34m\u001b[0m\u001b[0;34m\u001b[0m\u001b[0m\n\u001b[0m\u001b[1;32m     11\u001b[0m             \u001b[0mself\u001b[0m\u001b[0;34m.\u001b[0m\u001b[0mcapacity\u001b[0m \u001b[0;34m=\u001b[0m \u001b[0mcapacity\u001b[0m\u001b[0;34m\u001b[0m\u001b[0;34m\u001b[0m\u001b[0m\n\u001b[1;32m     12\u001b[0m \u001b[0;34m\u001b[0m\u001b[0m\n",
      "\u001b[0;32m<ipython-input-47-5bd81b651e68>\u001b[0m in \u001b[0;36m_is_capacity_valid\u001b[0;34m(capacity)\u001b[0m\n\u001b[1;32m     28\u001b[0m             \u001b[0;32mraise\u001b[0m \u001b[0mValueError\u001b[0m\u001b[0;34m(\u001b[0m\u001b[0;34m\"Please enter a valid number\"\u001b[0m\u001b[0;34m)\u001b[0m\u001b[0;34m\u001b[0m\u001b[0;34m\u001b[0m\u001b[0m\n\u001b[1;32m     29\u001b[0m         \u001b[0;32melif\u001b[0m \u001b[0mcapacity\u001b[0m \u001b[0;34m<=\u001b[0m \u001b[0;36m0.\u001b[0m\u001b[0;34m:\u001b[0m\u001b[0;34m\u001b[0m\u001b[0;34m\u001b[0m\u001b[0m\n\u001b[0;32m---> 30\u001b[0;31m             \u001b[0;32mraise\u001b[0m \u001b[0mValueError\u001b[0m\u001b[0;34m(\u001b[0m\u001b[0;34m\"Capacity can't be less than or equal to 0. Please enter a valid number\"\u001b[0m\u001b[0;34m)\u001b[0m\u001b[0;34m\u001b[0m\u001b[0;34m\u001b[0m\u001b[0m\n\u001b[0m\u001b[1;32m     31\u001b[0m         \u001b[0;32melif\u001b[0m \u001b[0mcapacity\u001b[0m \u001b[0;34m%\u001b[0m \u001b[0;36m1\u001b[0m \u001b[0;34m!=\u001b[0m \u001b[0;36m0.\u001b[0m\u001b[0;34m:\u001b[0m\u001b[0;34m\u001b[0m\u001b[0;34m\u001b[0m\u001b[0m\n\u001b[1;32m     32\u001b[0m             \u001b[0;32mraise\u001b[0m \u001b[0mValueError\u001b[0m\u001b[0;34m(\u001b[0m\u001b[0;34m\"Please enter a positive integer or non-decimal number\"\u001b[0m\u001b[0;34m)\u001b[0m\u001b[0;34m\u001b[0m\u001b[0;34m\u001b[0m\u001b[0m\n",
      "\u001b[0;31mValueError\u001b[0m: Capacity can't be less than or equal to 0. Please enter a valid number"
     ]
    }
   ],
   "source": [
    "# Normal Case:\n",
    "our_cache = LRU_Cache(5)\n",
    "our_cache.set(1, 1)\n",
    "our_cache.set(2, 2)\n",
    "our_cache.set(3, 3)\n",
    "our_cache.set(4, 4)\n",
    "\n",
    "print(our_cache.get(1))   # returns 1\n",
    "print(our_cache.get(2))   # returns 2\n",
    "print(our_cache.get(9))   # returns -1 because 9 is not present in the cache\n",
    "\n",
    "our_cache.set(5, 5)\n",
    "our_cache.set(6, 6)\n",
    "\n",
    "print(our_cache.get(1))  # returns -1 because the cache reached it's capacity and 1 was the least recently used entry\n",
    "\n",
    "# Edge Case:\n",
    "our_cache = LRU_Cache(2)\n",
    "our_cache.set(1, 1)\n",
    "our_cache.set(2, 2)\n",
    "our_cache.set(1, 10)\n",
    "print(our_cache.get(1))   # should return 10\n",
    "print(our_cache.get(2))   # should return 2\n",
    "\n",
    "our_cache = LRU_Cache(0)\n",
    "our_cache = LRU_Cache(-1)"
   ]
  }
 ],
 "metadata": {
  "kernelspec": {
   "display_name": "Python 3",
   "language": "python",
   "name": "python3"
  },
  "language_info": {
   "codemirror_mode": {
    "name": "ipython",
    "version": 3
   },
   "file_extension": ".py",
   "mimetype": "text/x-python",
   "name": "python",
   "nbconvert_exporter": "python",
   "pygments_lexer": "ipython3",
   "version": "3.6.9"
  }
 },
 "nbformat": 4,
 "nbformat_minor": 4
}
